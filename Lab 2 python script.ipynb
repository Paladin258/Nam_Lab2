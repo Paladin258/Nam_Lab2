{
 "cells": [
  {
   "cell_type": "markdown",
   "metadata": {},
   "source": [
    "import os.path\n",
    "print os.getcwd()"
   ]
  },
  {
   "cell_type": "markdown",
   "metadata": {},
   "source": [
    "### 1) Check if file exists:\n",
    "os.path.exists('output/outfile.1.a.out')"
   ]
  },
  {
   "cell_type": "markdown",
   "metadata": {},
   "source": [
    "### 2) Check if file is a folder:\n",
    "\n",
    "os.path.isdir(\"data\")"
   ]
  },
  {
   "cell_type": "markdown",
   "metadata": {},
   "source": [
    "### 3) How do you remove (delete) a file?\n",
    "\n",
    "os.remove(\"example\")"
   ]
  },
  {
   "cell_type": "markdown",
   "metadata": {},
   "source": [
    "### 4) How do you get the size of a file?\n",
    "\n",
    "os.path.getsize('data')"
   ]
  },
  {
   "cell_type": "markdown",
   "metadata": {},
   "source": [
    "### 5) How do you get all the file names matching a pattern?\n",
    "\n",
    "print glob.glob('data/*txt')"
   ]
  },
  {
   "cell_type": "markdown",
   "metadata": {},
   "source": [
    "### 6) How do you get all the file names matching a pattern recursively?\n",
    "\n",
    "##### This could get all files in sub-directories\n",
    "\n",
    "print glob.glob('*/*txt')"
   ]
  },
  {
   "cell_type": "markdown",
   "metadata": {},
   "source": [
    "### 7) How do you get an iterator to all files matching a pattern, as opposed to returning a potentially huge list?\n",
    "\n",
    "##### Store all the files into a list\n",
    "\n",
    "file_list = glob.glob('data/*a*')"
   ]
  },
  {
   "cell_type": "markdown",
   "metadata": {},
   "source": [
    "### 8) How do you open gzip-compressed files for reading and for writing?\n",
    "\n",
    "import gzip\n",
    "###### reading\n",
    "with gzip.open('file.txt.gz', 'rb') as f:\n",
    "    file_content = f.read()\n",
    "###### writing    \n",
    "with gzip.open('file.txt.gz', 'wb') as f:\n",
    "    f.write(content)"
   ]
  },
  {
   "cell_type": "markdown",
   "metadata": {},
   "source": [
    "## Checking which files are missing from output files:\n",
    "\n",
    "###### Get a list of files from the folders:\n",
    "data_list_a = glob.glob('data/*a.txt')\n",
    "data_list_b = glob.glob('data/*b.txt')\n",
    "output = glob.glob('*/*out*')\n",
    "\n",
    "##### Remove the 'output/' from output list\n",
    "output_list=[]\n",
    "for i in output:\n",
    "    output_list.append(i.replace(\"output/\",\"\"))"
   ]
  },
  {
   "cell_type": "markdown",
   "metadata": {},
   "source": [
    "##### Get the list of output files that are supposed to be present (theoretical output):\n",
    "\n",
    "result = []\n",
    "for x in range (1,len(data_list_a)):\n",
    "    result.append(\"outfile.\"+ str(x) +\".a.out\")\n",
    "\n",
    "for x in range (1,len(data_list_b)):\n",
    "    result.append(\"outfile.\"+ str(x) +\".b.out\")\n"
   ]
  },
  {
   "cell_type": "markdown",
   "metadata": {},
   "source": [
    "#### print the missing files from output folder\n",
    "print [c for c in result if c not in output_list]"
   ]
  },
  {
   "cell_type": "code",
   "execution_count": null,
   "metadata": {
    "collapsed": true
   },
   "outputs": [],
   "source": []
  }
 ],
 "metadata": {
  "kernelspec": {
   "display_name": "Python 2",
   "language": "python",
   "name": "python2"
  },
  "language_info": {
   "codemirror_mode": {
    "name": "ipython",
    "version": 2
   },
   "file_extension": ".py",
   "mimetype": "text/x-python",
   "name": "python",
   "nbconvert_exporter": "python",
   "pygments_lexer": "ipython2",
   "version": "2.7.3"
  }
 },
 "nbformat": 4,
 "nbformat_minor": 2
}
